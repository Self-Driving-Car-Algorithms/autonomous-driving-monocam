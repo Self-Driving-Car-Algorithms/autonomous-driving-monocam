{
 "cells": [
  {
   "cell_type": "code",
   "execution_count": 1,
   "metadata": {
    "collapsed": true
   },
   "outputs": [],
   "source": [
    "from __future__ import print_function\n",
    "import torch"
   ]
  },
  {
   "cell_type": "code",
   "execution_count": 2,
   "metadata": {
    "collapsed": false
   },
   "outputs": [
    {
     "name": "stdout",
     "output_type": "stream",
     "text": [
      "Ex 1\n",
      "hello\n",
      "--------------------------------------------------\n"
     ]
    }
   ],
   "source": [
    "print('Ex 1')\n",
    "a = 'hello'\n",
    "print(a)\n",
    "\n",
    "print('--------------------------------------------------')"
   ]
  },
  {
   "cell_type": "code",
   "execution_count": 3,
   "metadata": {
    "collapsed": false
   },
   "outputs": [
    {
     "name": "stdout",
     "output_type": "stream",
     "text": [
      "Ex 2\n",
      "{1: 'hello'}\n",
      "--------------------------------------------------\n"
     ]
    }
   ],
   "source": [
    "print('Ex 2')\n",
    "b = {}\n",
    "b[1] = a\n",
    "print(b)\n",
    "\n",
    "print('--------------------------------------------------')"
   ]
  },
  {
   "cell_type": "code",
   "execution_count": 6,
   "metadata": {
    "collapsed": false
   },
   "outputs": [
    {
     "name": "stdout",
     "output_type": "stream",
     "text": [
      "Ex 3\n",
      "hello\n",
      "30\n",
      "--------------------------------------------------\n"
     ]
    }
   ],
   "source": [
    "print('Ex 3')\n",
    "b[2] = 30\n",
    "for i in range(1, len(b.keys()) + 1):\n",
    "    print(b[i])\n",
    "\n",
    "print('--------------------------------------------------')\n"
   ]
  },
  {
   "cell_type": "code",
   "execution_count": 14,
   "metadata": {
    "collapsed": false
   },
   "outputs": [
    {
     "name": "stdout",
     "output_type": "stream",
     "text": [
      "Ex 4\n",
      "\n",
      " 0.0426  0.0513  0.6391\n",
      " 0.1882  0.6581  0.2038\n",
      " 0.1025  0.8669  0.2065\n",
      " 0.7203  0.8847  0.9176\n",
      " 0.7606  0.1261  0.6598\n",
      "[torch.FloatTensor of size 5x3]\n",
      "\n",
      "--------------------------------------------------\n"
     ]
    }
   ],
   "source": [
    "print('Ex 4')\n",
    "a = torch.Tensor(5, 3)\n",
    "a = torch.rand(5, 3)\n",
    "print(a)\n",
    "\n",
    "print('--------------------------------------------------')"
   ]
  },
  {
   "cell_type": "code",
   "execution_count": 18,
   "metadata": {
    "collapsed": false
   },
   "outputs": [
    {
     "name": "stdout",
     "output_type": "stream",
     "text": [
      "Ex 5\n",
      "\n",
      " 0.3448  0.4293  0.4607  0.4367\n",
      " 0.6112  0.3226  0.7943  0.4690\n",
      " 0.6945  0.3167  0.9529  0.4797\n",
      " 1.3776  1.0604  1.6452  1.3460\n",
      " 0.8089  0.7968  0.8124  0.9687\n",
      "[torch.FloatTensor of size 5x4]\n",
      "\n",
      "[[ 0.34478685  0.4293448   0.46068189  0.43667829]\n",
      " [ 0.6111778   0.32263523  0.79432499  0.46902001]\n",
      " [ 0.694516    0.31673971  0.95287251  0.47969797]\n",
      " [ 1.37755454  1.06036878  1.64516222  1.34598625]\n",
      " [ 0.80888855  0.79684997  0.81243622  0.96870917]]\n"
     ]
    }
   ],
   "source": [
    "import numpy as np\n",
    "\n",
    "print('Ex 5')\n",
    "b = torch.rand(3, 4)\n",
    "c = torch.mm(a, b)\n",
    "print(c)\n",
    "\n",
    "a = a.numpy()\n",
    "b = b.numpy()\n",
    "\n",
    "c = np.matmul(a, b)\n",
    "print(c)"
   ]
  },
  {
   "cell_type": "code",
   "execution_count": 21,
   "metadata": {
    "collapsed": false
   },
   "outputs": [
    {
     "name": "stdout",
     "output_type": "stream",
     "text": [
      "Ex 6\n",
      "True\n",
      "\n",
      " 0.5132  0.3164  0.5761  0.2897\n",
      " 0.4768  0.4316  0.9820  0.7647\n",
      " 0.6259  0.3781  0.7363  0.3901\n",
      " 0.4924  0.4519  0.9746  0.7467\n",
      " 0.9221  0.4773  1.0087  0.4881\n",
      "[torch.cuda.FloatTensor of size 5x4 (GPU 0)]\n",
      "\n"
     ]
    }
   ],
   "source": [
    "print('Ex 6')\n",
    "print(torch.cuda.is_available())\n",
    "a = torch.rand(5, 3).cuda()\n",
    "b = torch.rand(3, 4).cuda()\n",
    "c = torch.mm(a, b)\n",
    "\n",
    "print(c)\n"
   ]
  },
  {
   "cell_type": "code",
   "execution_count": null,
   "metadata": {
    "collapsed": true
   },
   "outputs": [],
   "source": []
  }
 ],
 "metadata": {
  "kernelspec": {
   "display_name": "Python 2",
   "language": "python",
   "name": "python2"
  },
  "language_info": {
   "codemirror_mode": {
    "name": "ipython",
    "version": 2
   },
   "file_extension": ".py",
   "mimetype": "text/x-python",
   "name": "python",
   "nbconvert_exporter": "python",
   "pygments_lexer": "ipython2",
   "version": "2.7.6"
  }
 },
 "nbformat": 4,
 "nbformat_minor": 1
}
