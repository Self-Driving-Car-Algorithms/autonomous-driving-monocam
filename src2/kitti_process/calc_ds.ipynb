{
 "cells": [
  {
   "cell_type": "code",
   "execution_count": 1,
   "metadata": {
    "collapsed": true
   },
   "outputs": [],
   "source": [
    "import os\n",
    "import sys\n",
    "import math\n",
    "\n",
    "\n",
    "kitti_seq = ['00', '01', '02', '03', '04', '05', '06', '07', '08', '09', '10']\n",
    "poses_path = \"/media/Data/kitti_dataset/dataset/poses/\"\n",
    "times_path = \"/media/Data/kitti_dataset/dataset/sequences/\""
   ]
  },
  {
   "cell_type": "code",
   "execution_count": 2,
   "metadata": {
    "collapsed": true
   },
   "outputs": [],
   "source": [
    "for i in range(0, len(kitti_seq)):\n",
    "    pose_inst = poses_path + str(kitti_seq[i]) + '.txt'\n",
    "    time_inst = times_path + str(kitti_seq[i]) + '/times.txt'\n",
    "    speed_inst = times_path + str(kitti_seq[i]) + '/ds.txt'\n",
    "    \n",
    "    with open(pose_inst) as handle:\n",
    "        pose_data = handle.readlines()\n",
    "    \n",
    "    with open(time_inst) as handle:\n",
    "        time_data = handle.readlines()\n",
    "        \n",
    "    with open(speed_inst, 'w') as handle:\n",
    "        for j in range(1, len(pose_data)):\n",
    "            #dt = float(time_data[j].strip()) - float(time_data[j-1].strip())\n",
    "            p1 = pose_data[j-1].strip().split(' ')\n",
    "            p2 = pose_data[j].strip().split(' ')\n",
    "            ds = math.sqrt((float(p1[3]) - float(p2[3]))**2 + (float(p1[7]) - float(p2[7]))**2 + (float(p1[11]) - float(p2[11]))**2)\n",
    "            speed = str(ds) + '\\n'\n",
    "            handle.write(speed)"
   ]
  },
  {
   "cell_type": "code",
   "execution_count": null,
   "metadata": {
    "collapsed": true
   },
   "outputs": [],
   "source": []
  }
 ],
 "metadata": {
  "kernelspec": {
   "display_name": "Python 3",
   "language": "python",
   "name": "python3"
  },
  "language_info": {
   "codemirror_mode": {
    "name": "ipython",
    "version": 3
   },
   "file_extension": ".py",
   "mimetype": "text/x-python",
   "name": "python",
   "nbconvert_exporter": "python",
   "pygments_lexer": "ipython3",
   "version": "3.5.2"
  },
  "widgets": {
   "state": {},
   "version": "1.1.2"
  }
 },
 "nbformat": 4,
 "nbformat_minor": 2
}
