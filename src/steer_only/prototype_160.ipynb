{
 "cells": [
  {
   "cell_type": "code",
   "execution_count": 33,
   "metadata": {},
   "outputs": [
    {
     "name": "stdout",
     "output_type": "stream",
     "text": [
      "Loaded 45999 samples from file ../../data/udacity_sim_data/\n",
      "Loaded 1328 samples from file ../../data/track2/seq1/\n"
     ]
    }
   ],
   "source": [
    "#Check if dataset loads\n",
    "\n",
    "import csv\n",
    "import os\n",
    "import numpy as np\n",
    "import cv2\n",
    "import keras\n",
    "\n",
    "DATASET_PATH = \"../../data/udacity_sim_data/\"\n",
    "VAL_PATH = \"../../data/track2/seq1/\"\n",
    "def load_dataset(file_path):\n",
    "    '''\n",
    "    Loads dataset in memory\n",
    "    '''\n",
    "    dataset = []\n",
    "    with open(file_path) as csvfile:\n",
    "        reader = csv.reader(csvfile)\n",
    "        for line in reader:\n",
    "            try:\n",
    "                dataset.append({'center':line[0], 'left':line[1], 'right':line[2], 'steering':float(line[3]), \n",
    "                            'throttle':float(line[4]), 'brake':float(line[5]), 'speed':float(line[6])})\n",
    "            except:\n",
    "                continue\n",
    "    return dataset\n",
    "\n",
    "dataset = load_dataset(os.path.join(DATASET_PATH, \"driving_log.csv\"))\n",
    "val_dataset = load_dataset(os.path.join(VAL_PATH, \"driving_log.csv\"))\n",
    "\n",
    "print(\"Loaded {} samples from file {}\".format(len(dataset),DATASET_PATH))\n",
    "print(\"Loaded {} samples from file {}\".format(len(val_dataset),VAL_PATH))"
   ]
  },
  {
   "cell_type": "code",
   "execution_count": null,
   "metadata": {
    "collapsed": true
   },
   "outputs": [],
   "source": []
  },
  {
   "cell_type": "code",
   "execution_count": null,
   "metadata": {
    "collapsed": true
   },
   "outputs": [],
   "source": []
  },
  {
   "cell_type": "code",
   "execution_count": 2,
   "metadata": {},
   "outputs": [
    {
     "ename": "NameError",
     "evalue": "name 'plot_dataset_histogram' is not defined",
     "output_type": "error",
     "traceback": [
      "\u001b[0;31m---------------------------------------------------------------------------\u001b[0m",
      "\u001b[0;31mNameError\u001b[0m                                 Traceback (most recent call last)",
      "\u001b[0;32m<ipython-input-2-be49ea5caee1>\u001b[0m in \u001b[0;36m<module>\u001b[0;34m()\u001b[0m\n\u001b[1;32m      9\u001b[0m         \u001b[0mnew_dataset\u001b[0m\u001b[0;34m.\u001b[0m\u001b[0mappend\u001b[0m\u001b[0;34m(\u001b[0m\u001b[0mimage_data\u001b[0m\u001b[0;34m)\u001b[0m\u001b[0;34m\u001b[0m\u001b[0m\n\u001b[1;32m     10\u001b[0m \u001b[0;34m\u001b[0m\u001b[0m\n\u001b[0;32m---> 11\u001b[0;31m \u001b[0mplot_dataset_histogram\u001b[0m\u001b[0;34m(\u001b[0m\u001b[0mnew_dataset\u001b[0m\u001b[0;34m,\u001b[0m \u001b[0;34m'Number of images per steering angle before image augmentation'\u001b[0m\u001b[0;34m,\u001b[0m \u001b[0mnum_bins\u001b[0m\u001b[0;34m=\u001b[0m\u001b[0;36m50\u001b[0m\u001b[0;34m)\u001b[0m\u001b[0;34m\u001b[0m\u001b[0m\n\u001b[0m\u001b[1;32m     12\u001b[0m \u001b[0mprint\u001b[0m\u001b[0;34m(\u001b[0m\u001b[0;34m\"Exploring the dataset complete.\"\u001b[0m\u001b[0;34m)\u001b[0m\u001b[0;34m\u001b[0m\u001b[0m\n\u001b[1;32m     13\u001b[0m \u001b[0mprint\u001b[0m\u001b[0;34m(\u001b[0m\u001b[0mlen\u001b[0m\u001b[0;34m(\u001b[0m\u001b[0mnew_dataset\u001b[0m\u001b[0;34m)\u001b[0m\u001b[0;34m)\u001b[0m\u001b[0;34m\u001b[0m\u001b[0m\n",
      "\u001b[0;31mNameError\u001b[0m: name 'plot_dataset_histogram' is not defined"
     ]
    }
   ],
   "source": []
  },
  {
   "cell_type": "code",
   "execution_count": 34,
   "metadata": {},
   "outputs": [
    {
     "name": "stdout",
     "output_type": "stream",
     "text": [
      "train set has 36799 elements\n",
      "validation set has 9200 elements\n",
      "validation set has 1328 elements\n"
     ]
    }
   ],
   "source": [
    "#Partion the dataset\n",
    "\n",
    "import random\n",
    "from sklearn.model_selection import train_test_split\n",
    "\n",
    "random.shuffle(dataset)\n",
    "\n",
    "#train_set, test_set = train_test_split(dataset, test_size=0.05)\n",
    "\n",
    "train_set, valid_set = train_test_split(dataset, test_size=0.20)\n",
    "\n",
    "print(\"train set has {} elements\".format(len(train_set)))\n",
    "#print(\"test set has {} elements\".format(len(test_set)))\n",
    "print(\"validation set has {} elements\".format(len(valid_set)))\n",
    "\n",
    "# For validation on new track. Overwriting here\n",
    "valid_set = val_dataset\n",
    "print(\"validation set has {} elements\".format(len(valid_set)))"
   ]
  },
  {
   "cell_type": "code",
   "execution_count": 35,
   "metadata": {
    "collapsed": true
   },
   "outputs": [],
   "source": [
    "# Dataset Augmentation\n",
    "\n",
    "import cv2\n",
    "import numpy as np\n",
    "from keras.preprocessing.image import *\n",
    "\n",
    "def image_preprocessing(img):\n",
    "    \"\"\"preproccesing training data to keep only S channel in HSV color space, and resize to 16X32\"\"\"\n",
    "\n",
    "    resized = cv2.resize((cv2.cvtColor(img, cv2.COLOR_RGB2HSV))[:,:,1],(320, 160))\n",
    "    return resized\n",
    "\n",
    "def flip_horizontal(image, steering_angle):\n",
    "    flipped_image = cv2.flip(image, 1)\n",
    "    steering_angle = -1 * steering_angle\n",
    "    return flipped_image, steering_angle\n",
    "\n",
    "def channel_shift(image, steering_angle, intensity=20, channel_axis=2):\n",
    "    channeled_image = random_channel_shift(image, intensity, channel_axis)\n",
    "    return channeled_image, steering_angle\n",
    "\n",
    "def random_transform(image, steering_angle):\n",
    "    image = image_preprocessing(image)\n",
    "    if np.random.random() < 0.5:\n",
    "        image, steering_angle = flip_horizontal(image, steering_angle)\n",
    "    \n",
    "    #image, steering_angle = channel_shift(image, steering_angle)\n",
    "\n",
    "    return image, steering_angle"
   ]
  },
  {
   "cell_type": "code",
   "execution_count": 36,
   "metadata": {},
   "outputs": [
    {
     "name": "stdout",
     "output_type": "stream",
     "text": [
      "(160, 320)\n"
     ]
    },
    {
     "data": {
      "image/png": "[encoded data removed]",
      "text/plain": [
       "<matplotlib.figure.Figure at 0x7f2ce7c6c080>"
      ]
     },
     "metadata": {},
     "output_type": "display_data"
    }
   ],
   "source": [
    "import matplotlib.pyplot as plt\n",
    "BATCH_SIZE = 128\n",
    "\n",
    "sample_file = os.path.join(DATASET_PATH, dataset[0]['center'].strip())\n",
    "#INPUT_IMAGE_ROWS, INPUT_IMAGE_COLS, INPUT_IMAGE_CHANNELS = cv2.imread(sample_file).shape[:3]\n",
    "INPUT_IMAGE_ROWS, INPUT_IMAGE_COLS, INPUT_IMAGE_CHANNELS = 160, 320, 1\n",
    "\n",
    "def load_and_augment_image(path, image_data, side_camera_offset=0.30):\n",
    "    \n",
    "    index = np.random.randint(3)\n",
    "    \n",
    "    if index == 0:\n",
    "        image_file = os.path.join(path, image_data['left'].strip())\n",
    "        angle_offset = side_camera_offset\n",
    "    elif index == 1:\n",
    "        image_file = os.path.join(path, image_data['center'].strip())\n",
    "        angle_offset = 0.\n",
    "    elif index == 2:\n",
    "        image_file = os.path.join(path, image_data['right'].strip())\n",
    "        angle_offset = - side_camera_offset\n",
    "    \n",
    "    steering_angle = image_data['steering'] + angle_offset\n",
    "    #steering_angle = image_data['steering']\n",
    "    #image_file = os.path.join(DATASET_PATH, image_data['center'].strip())\n",
    "    image = cv2.imread(image_file)\n",
    "    #image = cv2.cvtColor(image, cv2.COLOR_BGR2RGB)\n",
    "    \n",
    "    image, steering_angle = random_transform(image, steering_angle)\n",
    "    return image, steering_angle\n",
    "\n",
    "\n",
    "augmented_steering_angles = []\n",
    "train_image_index = 0\n",
    "\n",
    "def train_generate_batch_data(dataset, batch_size=BATCH_SIZE):\n",
    "    \n",
    "    global augmented_steering_angles\n",
    "    global train_image_index\n",
    "\n",
    "    batch_images = np.zeros((batch_size, INPUT_IMAGE_ROWS, INPUT_IMAGE_COLS, INPUT_IMAGE_CHANNELS))\n",
    "    batch_steering_angles = np.zeros(batch_size)\n",
    "\n",
    "    while 1:\n",
    "        for batch_index in range(batch_size):\n",
    "\n",
    "            #image_index = np.random.randint(len(dataset))\n",
    "            if train_image_index >= len(dataset):\n",
    "                train_image_index = 0\n",
    "            image_data = dataset[train_image_index]\n",
    "\n",
    "            try:\n",
    "                image, steering_angle = load_and_augment_image(DATASET_PATH, image_data)\n",
    "                augmented_steering_angles.append(steering_angle)\n",
    "                batch_images[batch_index] = image.reshape([160, 320, 1])\n",
    "                batch_steering_angles[batch_index] = steering_angle\n",
    "                train_image_index = train_image_index + 1\n",
    "\n",
    "            except:\n",
    "                continue\n",
    "\n",
    "        yield batch_images, batch_steering_angles\n",
    "        \n",
    "        \n",
    "        \n",
    "valid_image_index = 0\n",
    "\n",
    "def valid_generate_batch_data(dataset, batch_size=BATCH_SIZE):\n",
    "    global valid_image_index\n",
    "\n",
    "    batch_images = np.zeros((batch_size, INPUT_IMAGE_ROWS, INPUT_IMAGE_COLS, INPUT_IMAGE_CHANNELS))\n",
    "    batch_steering_angles = np.zeros(batch_size)\n",
    "\n",
    "    while 1:\n",
    "        for batch_index in range(batch_size):\n",
    "\n",
    "            #image_index = np.random.randint(len(dataset))\n",
    "            if valid_image_index >= len(dataset):\n",
    "                valid_image_index = 0\n",
    "            image_data = dataset[valid_image_index]\n",
    "\n",
    "            try:\n",
    "                image, steering_angle = load_and_augment_image(VAL_PATH, image_data)\n",
    "                batch_images[batch_index] = image.reshape([160, 320, 1])\n",
    "                batch_steering_angles[batch_index] = steering_angle\n",
    "                valid_image_index = valid_image_index + 1\n",
    "\n",
    "            except:\n",
    "                continue\n",
    "\n",
    "        yield batch_images, batch_steering_angles\n",
    "\n",
    "\n",
    "image, _ = load_and_augment_image(VAL_PATH, valid_set[0])\n",
    "\n",
    "print(image.shape)\n",
    "\n",
    "plt.imshow(image)\n",
    "plt.xticks([]), plt.yticks([])\n",
    "plt.show()"
   ]
  },
  {
   "cell_type": "code",
   "execution_count": null,
   "metadata": {},
   "outputs": [],
   "source": [
    "sample_gen = valid_generate_batch_data(valid_set)\n",
    "for i in range(10):\n",
    "    next(sample_gen)\n",
    "#plot_steering_histogram(augmented_steering_angles, \"augmented_data\", num_bins=50)\n"
   ]
  },
  {
   "cell_type": "code",
   "execution_count": null,
   "metadata": {
    "collapsed": true
   },
   "outputs": [],
   "source": [
    "# validation dataset\n",
    "\n",
    "# for image_data in valid_set:\n",
    "#     image, steering_angle = load_and_augment_image(image_data)\n",
    "#     X_valid.append(image)\n",
    "#     Y_valid.append(steering_angle)"
   ]
  },
  {
   "cell_type": "code",
   "execution_count": 37,
   "metadata": {},
   "outputs": [
    {
     "name": "stdout",
     "output_type": "stream",
     "text": [
      "\n",
      "Building and compiling the model ...\n",
      "____________________________________________________________________________________________________\n",
      "Layer (type)                     Output Shape          Param #     Connected to                     \n",
      "====================================================================================================\n",
      "lambda_5 (Lambda)                (None, 160, 320, 1)   0           lambda_input_5[0][0]             \n",
      "____________________________________________________________________________________________________\n",
      "Conv1 (Convolution2D)            (None, 75, 155, 1)    122         lambda_5[0][0]                   \n",
      "____________________________________________________________________________________________________\n",
      "Conv2 (Convolution2D)            (None, 36, 76, 1)     26          Conv1[0][0]                      \n",
      "____________________________________________________________________________________________________\n",
      "dropout_5 (Dropout)              (None, 36, 76, 1)     0           Conv2[0][0]                      \n",
      "____________________________________________________________________________________________________\n",
      "flatten_5 (Flatten)              (None, 2736)          0           dropout_5[0][0]                  \n",
      "____________________________________________________________________________________________________\n",
      "output (Dense)                   (None, 1)             2737        flatten_5[0][0]                  \n",
      "====================================================================================================\n",
      "Total params: 2,885\n",
      "Trainable params: 2,885\n",
      "Non-trainable params: 0\n",
      "____________________________________________________________________________________________________\n"
     ]
    }
   ],
   "source": [
    "from keras.models import Sequential, Model\n",
    "from keras.layers.core import Lambda, Dense, Activation, Flatten, Dropout\n",
    "from keras.layers.convolutional import Cropping2D, Convolution2D, MaxPooling2D\n",
    "from keras.layers.advanced_activations import ELU\n",
    "from keras.layers.noise import GaussianNoise\n",
    "from keras.optimizers import Adam\n",
    "\n",
    "print(\"\\nBuilding and compiling the model ...\")\n",
    "\n",
    "model = Sequential()\n",
    "# Preprocess incoming data, centered around zero with small standard deviation \n",
    "model.add(Lambda(lambda x: (x / 127.5) - 1.0, input_shape=(INPUT_IMAGE_ROWS, INPUT_IMAGE_COLS, INPUT_IMAGE_CHANNELS)))\n",
    "# Block - conv\n",
    "model.add(Convolution2D(1, 11, 11, border_mode='valid', subsample=[2, 2], init='glorot_uniform', activation='relu', name='Conv1'))\n",
    "# Block - conv\n",
    "model.add(Convolution2D(1, 5, 5, border_mode='valid', subsample=[2, 2], init='glorot_uniform', activation='relu', name='Conv2'))\n",
    "# Block - conv\n",
    "#model.add(Convolution2D(1, 3, 3, border_mode='valid', subsample=[2, 2], init='glorot_uniform', activation='relu', name='Conv3'))\n",
    "# Block - conv\n",
    "#model.add(Convolution2D(1, 3, 3, border_mode='valid', init='glorot_uniform', activation='relu', name='Conv4'))\n",
    "# Block - flatten\n",
    "#model.add(MaxPooling2D((4,4),(4,4),'valid', name='pool1'))\n",
    "model.add(Dropout(0.20))\n",
    "model.add(Flatten())\n",
    "model.add(Dense(1, name='output')) \n",
    "model.summary()\n",
    "\n",
    "#adam = Adam(lr=0.001)\n",
    "model.compile(loss='mean_squared_error', optimizer=adam)"
   ]
  },
  {
   "cell_type": "code",
   "execution_count": 38,
   "metadata": {},
   "outputs": [
    {
     "name": "stdout",
     "output_type": "stream",
     "text": [
      "Beginning training\n",
      "Epoch 1/10\n",
      "36864/36864 [==============================] - 44s - loss: 0.0520 - val_loss: 0.0458\n",
      "Epoch 2/10\n",
      "36864/36864 [==============================] - 43s - loss: 0.0278 - val_loss: 0.0347\n",
      "Epoch 3/10\n",
      "36864/36864 [==============================] - 43s - loss: 0.0245 - val_loss: 0.0340\n",
      "Epoch 4/10\n",
      "36864/36864 [==============================] - 43s - loss: 0.0231 - val_loss: 0.0338\n",
      "Epoch 5/10\n",
      "36864/36864 [==============================] - 43s - loss: 0.0232 - val_loss: 0.0339\n",
      "Epoch 6/10\n",
      "36864/36864 [==============================] - 43s - loss: 0.0220 - val_loss: 0.0316\n",
      "Epoch 7/10\n",
      "36864/36864 [==============================] - 43s - loss: 0.0224 - val_loss: 0.0290\n",
      "Epoch 8/10\n",
      "36864/36864 [==============================] - 43s - loss: 0.0216 - val_loss: 0.0289\n",
      "Epoch 9/10\n",
      "36864/36864 [==============================] - 43s - loss: 0.0215 - val_loss: 0.0284\n",
      "Epoch 10/10\n",
      "36864/36864 [==============================] - 43s - loss: 0.0207 - val_loss: 0.0337\n",
      "Ending Training\n",
      "\n",
      "Training the model ended.\n",
      "\n",
      "Saving Model...\n",
      "Model Saved.\n"
     ]
    }
   ],
   "source": [
    "AUGMENTATION_FACTOR = 1\n",
    "NUM_EPOCHS = 10\n",
    "\n",
    "import keras\n",
    "from keras.callbacks import Callback\n",
    "from keras.callbacks import TensorBoard\n",
    "from keras.callbacks import ModelCheckpoint\n",
    "import math\n",
    "\n",
    "class LifeCycleCallBack(keras.callbacks.Callback):\n",
    "    \n",
    "    def on_epoch_begin(self, epoch, logs={}):\n",
    "        pass\n",
    "    \n",
    "    def on_epoch_end(self, epoch, logs={}):\n",
    "        pass\n",
    "    \n",
    "    def on_batch_begin(self, batch, logs={}):\n",
    "        pass\n",
    "    \n",
    "    def on_batch_end(self, batch, logs={}):\n",
    "        self.losses.append(logs.get('loss'))\n",
    "        \n",
    "    def on_train_begin(self, logs={}):\n",
    "        print('Beginning training')\n",
    "        self.losses = []\n",
    "        \n",
    "    def on_train_end(self, logs={}):\n",
    "        print('Ending Training')\n",
    "\n",
    "        \n",
    "def compute_samples_per_epoch(array_size, batch_size):\n",
    "    num_batches = math.ceil(array_size / batch_size)\n",
    "    samples_per_epoch = num_batches * batch_size\n",
    "    return samples_per_epoch\n",
    "\n",
    "lifecycle_callback = LifeCycleCallBack()\n",
    "tensorboard = keras.callbacks.TensorBoard(log_dir='../../data/logs/steer_only/', histogram_freq=1, \n",
    "                                          write_graph=True, write_images=True)\n",
    "checkpoint = keras.callbacks.ModelCheckpoint(\"../../data/weights/steer_only/model.h5\", monitor='val_loss', verbose=0, \n",
    "                                             save_best_only=True, save_weights_only=True, mode='auto', period=1)\n",
    "\n",
    "\n",
    "\n",
    "train_generator = train_generate_batch_data(train_set, BATCH_SIZE)\n",
    "valid_generator = valid_generate_batch_data(valid_set, BATCH_SIZE)\n",
    "\n",
    "samples_per_epoch = compute_samples_per_epoch((len(train_set)*AUGMENTATION_FACTOR), BATCH_SIZE) \n",
    "nb_val_samples = compute_samples_per_epoch((len(valid_set)*AUGMENTATION_FACTOR), BATCH_SIZE) \n",
    " \n",
    "history = model.fit_generator(train_generator,\n",
    "                              validation_data = valid_generator,\n",
    "                              samples_per_epoch = samples_per_epoch, \n",
    "                              nb_val_samples = nb_val_samples,\n",
    "                              nb_epoch = NUM_EPOCHS, verbose=1, \n",
    "                              callbacks=[lifecycle_callback, checkpoint])\n",
    "\n",
    "print(\"\\nTraining the model ended.\")\n",
    "\n",
    "print(\"\\nSaving Model...\")\n",
    "\n",
    "model_json = model.to_json()\n",
    "with open(\"../../data/weights/steer_only/model.json\", \"w\") as json_file:\n",
    "    json_file.write(model_json)\n",
    "\n",
    "model.save_weights(\"../../data/weights/steer_only/model.h5\")\n",
    "print(\"Model Saved.\")"
   ]
  },
  {
   "cell_type": "code",
   "execution_count": 16,
   "metadata": {},
   "outputs": [
    {
     "name": "stdout",
     "output_type": "stream",
     "text": [
      "Model Saved.\n"
     ]
    }
   ],
   "source": [
    "model_json = model.to_json()\n",
    "with open(\"../../data/weights/steer_only/model.json\", \"w\") as json_file:\n",
    "    json_file.write(model_json)\n",
    "\n",
    "model.save_weights(\"../../data/weights/steer_only/model.h5\")\n",
    "print(\"Model Saved.\")"
   ]
  },
  {
   "cell_type": "code",
   "execution_count": 42,
   "metadata": {},
   "outputs": [
    {
     "name": "stdout",
     "output_type": "stream",
     "text": [
      "Convolutional features shape:  (1, 75, 155, 1)\n"
     ]
    },
    {
     "data": {
      "image/png": "[encoded data removed]",
      "text/plain": [
       "<matplotlib.figure.Figure at 0x7f2ce01df7b8>"
      ]
     },
     "metadata": {},
     "output_type": "display_data"
    },
    {
     "name": "stdout",
     "output_type": "stream",
     "text": [
      "Convolutional features shape:  (1, 36, 76, 1)\n"
     ]
    },
    {
     "data": {
      "image/png": "[encoded data removed]",
      "text/plain": [
       "<matplotlib.figure.Figure at 0x7f2ce01a80f0>"
      ]
     },
     "metadata": {},
     "output_type": "display_data"
    }
   ],
   "source": [
    "##Visualization of the convolutional layers\n",
    "from keras.models import load_model, Model\n",
    "from keras.models import model_from_json\n",
    "import cv2\n",
    "import numpy as np\n",
    "import matplotlib.pyplot as plt\n",
    "\n",
    "MODEL_PATH = \"../../data/weights/steer_only/model.json\"\n",
    "test_file = os.path.join(DATASET_PATH, dataset[0]['center'])\n",
    " \n",
    "def visualize_model_layer_output(model, layer_name, image_file):\n",
    "    test_model = Model(input=model.input, output=model.get_layer(layer_name).output)\n",
    " \n",
    "    image = cv2.imread(image_file)\n",
    "    image = cv2.cvtColor(image, cv2.COLOR_RGB2HSV)[:, :, 1]\n",
    "    image_array = np.asarray(image).reshape([160, 320, 1])\n",
    "    image_array = image_array[None, :, :, :]\n",
    "\n",
    "    conv_features = test_model.predict(image_array, batch_size=1)\n",
    "    print(\"Convolutional features shape: \", conv_features.shape)\n",
    " \n",
    "    # plot features\n",
    "    plt.subplots(figsize=(20, 20))\n",
    "    for i in range(1):\n",
    "        plt.subplot(2, 4, i+1)\n",
    "        plt.axis('off')\n",
    "        plt.imshow(conv_features[0,:,:,i], cmap='gray')\n",
    "    plt.show()\n",
    "\n",
    "\n",
    "with open(MODEL_PATH, 'r') as jfile:\n",
    "    model = model_from_json(jfile.read())\n",
    "\n",
    "model.compile(\"adam\", \"mse\")\n",
    "weights_file = MODEL_PATH.replace('json', 'h5')\n",
    "model.load_weights(weights_file)\n",
    "\n",
    "\n",
    "visualize_model_layer_output(model, 'Conv1', test_file)\n",
    "visualize_model_layer_output(model, 'Conv2', test_file)"
   ]
  },
  {
   "cell_type": "code",
   "execution_count": null,
   "metadata": {
    "collapsed": true
   },
   "outputs": [],
   "source": []
  },
  {
   "cell_type": "code",
   "execution_count": null,
   "metadata": {
    "collapsed": true
   },
   "outputs": [],
   "source": [
    "##########################################################################################################################"
   ]
  },
  {
   "cell_type": "code",
   "execution_count": null,
   "metadata": {},
   "outputs": [],
   "source": [
    "import numpy as np\n",
    "import keras\n",
    "import matplotlib.pyplot as plt\n",
    "import csv\n",
    "import cv2\n",
    "from sklearn.model_selection import train_test_split\n",
    "from sklearn.utils import shuffle\n",
    "from keras.models import *\n",
    "from keras.layers import *\n",
    "from tqdm import tqdm\n",
    "from multiprocessing import Pool\n",
    "\n",
    "\n",
    "def image_preprocessing(img):\n",
    "    \"\"\"preproccesing training data to keep only S channel in HSV color space, and resize to 16X32\"\"\"\n",
    "\n",
    "    resized = cv2.resize((cv2.cvtColor(img, cv2.COLOR_RGB2HSV))[:,:,1],(img_cols,img_rows))\n",
    "    return resized\n",
    "\n",
    "def extract(i):\n",
    "    X_ = []\n",
    "    y_ = []\n",
    "\n",
    "    img_path = logs[i][0]\n",
    "    img_path = data_folder+'IMG'+(img_path.split('IMG')[1]).strip()\n",
    "    img = plt.imread(img_path)\n",
    "    X_.append(image_preprocessing(img))\n",
    "    y_.append(float(logs[i][3]))\n",
    "\n",
    "    img_path = logs[i][1]\n",
    "    img_path = data_folder+'IMG'+(img_path.split('IMG')[1]).strip()\n",
    "    img = plt.imread(img_path)\n",
    "    X_.append(image_preprocessing(img))\n",
    "    y_.append(float(logs[i][3]) + delta_)\n",
    "\n",
    "    img_path = logs[i][2]\n",
    "    img_path = data_folder+'IMG'+(img_path.split('IMG')[1]).strip()\n",
    "    img = plt.imread(img_path)\n",
    "    X_.append(image_preprocessing(img))\n",
    "    y_.append(float(logs[i][3]) - delta_)\n",
    "\n",
    "    return X_, y_\n",
    "\n",
    "def load_data(X,y,data_folder,delta=0.08):\n",
    "    \"\"\"function to load training data\"\"\"\n",
    "\n",
    "    global logs\n",
    "    global delta_\n",
    "\n",
    "    delta_ = delta\n",
    "\n",
    "    log_path = data_folder + 'driving_log.csv'\n",
    "    logs = []\n",
    "\n",
    "    # load logs\n",
    "    with open(log_path,'rt') as f:\n",
    "        reader = csv.reader(f)\n",
    "        for line in reader:\n",
    "            logs.append(line)\n",
    "        log_labels = logs.pop(0)\n",
    "\n",
    "    pool = Pool(processes=6)\n",
    "\n",
    "    for X_, y_ in tqdm(pool.imap_unordered(extract, range(len(logs))), total=len(logs)):\n",
    "        X.extend(X_)\n",
    "        y.extend(y_)\n",
    "    pool.close()"
   ]
  },
  {
   "cell_type": "code",
   "execution_count": null,
   "metadata": {},
   "outputs": [],
   "source": [
    "img_rows = 160\n",
    "img_cols = 320\n",
    "\n",
    "#data path\n",
    "data_folder = '../../data/udacity_official/'\n",
    "\n",
    "#batch size and epoch\n",
    "batch_size=128\n",
    "nb_epoch=7\n",
    "\n",
    "data={}\n",
    "data['features'] = []\n",
    "data['labels'] = []\n",
    "\n",
    "load_data(data['features'], data['labels'], data_folder, 0.3)\n",
    "\n",
    "X_train = np.array(data['features']).astype('float32')\n",
    "y_train = np.array(data['labels']).astype('float32')\n",
    "\n",
    "\n",
    "# horizonal reflection to agument the data\n",
    "X_train = np.append(X_train, X_train[:,:,::-1], axis=0)\n",
    "y_train = np.append(y_train, -y_train, axis=0)\n",
    "\n",
    "# split train and validation\n",
    "X_train, y_train = shuffle(X_train, y_train)\n",
    "X_train, X_val, y_train, y_val = train_test_split(X_train, y_train, random_state=0, test_size=0.1)\n",
    "\n",
    "# reshape to have correct dimension\n",
    "X_train = X_train.reshape(X_train.shape[0], img_rows, img_cols, 1)\n",
    "X_val = X_val.reshape(X_val.shape[0], img_rows, img_cols, 1)\n"
   ]
  },
  {
   "cell_type": "code",
   "execution_count": null,
   "metadata": {},
   "outputs": [],
   "source": [
    "import matplotlib.pyplot as plt\n",
    "\n",
    "sample = X_train[0].reshape([160, 320])\n",
    "plt.imshow(sample)\n",
    "plt.xticks([]), plt.yticks([])\n",
    "plt.show()"
   ]
  },
  {
   "cell_type": "code",
   "execution_count": null,
   "metadata": {
    "collapsed": true
   },
   "outputs": [],
   "source": [
    "np.save(\"images_saturation.npy\", X_train)\n",
    "np.save(\"steering.npy\", y_train)"
   ]
  },
  {
   "cell_type": "code",
   "execution_count": null,
   "metadata": {},
   "outputs": [],
   "source": [
    "from keras.models import Sequential, Model\n",
    "from keras.layers.core import Lambda, Dense, Activation, Flatten, Dropout\n",
    "from keras.layers.convolutional import Cropping2D, Convolution2D, MaxPooling2D\n",
    "from keras.layers.advanced_activations import ELU\n",
    "from keras.layers.noise import GaussianNoise\n",
    "from keras.optimizers import Adam\n",
    "\n",
    "print(\"\\nBuilding and compiling the model ...\")\n",
    "\n",
    "model = Sequential()\n",
    "# Preprocess incoming data, centered around zero with small standard deviation \n",
    "model.add(Lambda(lambda x: (x / 127.5) - 1.0, input_shape=(img_rows, img_cols, 1)))\n",
    "# Block - conv\n",
    "model.add(Convolution2D(1, 11, 11, border_mode='valid', subsample=[2, 2], init='glorot_uniform', activation='relu', name='Conv1'))\n",
    "# Block - conv\n",
    "model.add(Convolution2D(1, 5, 5, border_mode='valid', subsample=[2, 2], init='glorot_uniform', activation='relu', name='Conv2'))\n",
    "# Block - conv\n",
    "#model.add(Convolution2D(1, 3, 3, border_mode='valid', subsample=[2, 2], init='glorot_uniform', activation='relu', name='Conv3'))\n",
    "# Block - conv\n",
    "#model.add(Convolution2D(1, 3, 3, border_mode='valid', init='glorot_uniform', activation='relu', name='Conv4'))\n",
    "# Block - flatten\n",
    "#model.add(MaxPooling2D((4,4),(4,4),'valid', name='pool1'))\n",
    "model.add(Dropout(0.20))\n",
    "model.add(Flatten())\n",
    "model.add(Dense(1, name='output')) \n",
    "model.summary()\n",
    "\n",
    "adam = Adam(lr=0.001)\n",
    "model.compile(loss='mean_squared_error', optimizer=adam)"
   ]
  },
  {
   "cell_type": "code",
   "execution_count": null,
   "metadata": {},
   "outputs": [],
   "source": [
    "AUGMENTATION_FACTOR = 1\n",
    "nb_epoch=20\n",
    "\n",
    "import keras\n",
    "from keras.callbacks import Callback\n",
    "from keras.callbacks import TensorBoard\n",
    "from keras.callbacks import ModelCheckpoint\n",
    "import math\n",
    "\n",
    "\n",
    "tensorboard = keras.callbacks.TensorBoard(log_dir='../../data/logs/steer_only/', histogram_freq=1, \n",
    "                                          write_graph=True, write_images=True)\n",
    "checkpoint = keras.callbacks.ModelCheckpoint(\"../../data/weights/steer_only/model.h5\", monitor='val_loss', verbose=0, \n",
    "                                             save_best_only=True, save_weights_only=True, mode='auto', period=1)\n",
    "\n",
    " \n",
    "history = model.fit(X_train, y_train, \n",
    "                  batch_size=batch_size,\n",
    "                  nb_epoch=nb_epoch, verbose=1,\n",
    "                  validation_data=(X_val, y_val))\n",
    "\n",
    "print(\"\\nTraining the model ended.\")\n",
    "\n",
    "print(\"\\nSaving Model...\")\n",
    "\n",
    "model_json = model.to_json()\n",
    "with open(\"../../data/weights/steer_only/model.json\", \"w\") as json_file:\n",
    "    json_file.write(model_json)\n",
    "\n",
    "model.save_weights(\"../../data/weights/steer_only/model.h5\")\n",
    "print(\"Model Saved.\")"
   ]
  },
  {
   "cell_type": "code",
   "execution_count": null,
   "metadata": {},
   "outputs": [],
   "source": [
    "print(\"\\nSaving Model...\")\n",
    "\n",
    "model_json = model.to_json()\n",
    "with open(\"../../data/weights/steer_only/model.json\", \"w\") as json_file:\n",
    "    json_file.write(model_json)\n",
    "\n",
    "model.save_weights(\"../../data/weights/steer_only/model.h5\")\n",
    "print(\"Model Saved.\")"
   ]
  },
  {
   "cell_type": "code",
   "execution_count": null,
   "metadata": {
    "collapsed": true
   },
   "outputs": [],
   "source": []
  }
 ],
 "metadata": {
  "kernelspec": {
   "display_name": "Python 3",
   "language": "python",
   "name": "python3"
  },
  "language_info": {
   "codemirror_mode": {
    "name": "ipython",
    "version": 3
   },
   "file_extension": ".py",
   "mimetype": "text/x-python",
   "name": "python",
   "nbconvert_exporter": "python",
   "pygments_lexer": "ipython3",
   "version": "3.5.2"
  },
  "widgets": {
   "state": {},
   "version": "1.1.2"
  }
 },
 "nbformat": 4,
 "nbformat_minor": 2
}
