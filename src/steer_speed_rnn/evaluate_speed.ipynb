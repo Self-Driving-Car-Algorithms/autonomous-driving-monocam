{
 "cells": [
  {
   "cell_type": "code",
   "execution_count": 31,
   "metadata": {},
   "outputs": [
    {
     "name": "stdout",
     "output_type": "stream",
     "text": [
      "Loaded 10039 samples from file ../../data/track1/seq1/\n"
     ]
    }
   ],
   "source": [
    "import csv\n",
    "import os\n",
    "import numpy as np\n",
    "import cv2\n",
    "import keras\n",
    "\n",
    "from keras.models import load_model\n",
    "from keras.models import model_from_json\n",
    "import h5py\n",
    "from keras import __version__ as keras_version\n",
    "\n",
    "from time import sleep\n",
    "from tqdm import tqdm\n",
    "\n",
    "VAL_PATH = \"../../data/track1/seq1/\"\n",
    "def load_dataset(file_path):\n",
    "    '''\n",
    "    Loads dataset in memory\n",
    "    '''\n",
    "    dataset = []\n",
    "    with open(file_path) as csvfile:\n",
    "        reader = csv.reader(csvfile)\n",
    "        for line in reader:\n",
    "            try:\n",
    "                dataset.append({'center':line[0], 'left':line[1], 'right':line[2], 'steering':float(line[3]), \n",
    "                            'throttle':float(line[4]), 'brake':float(line[5]), 'speed':float(line[6])})\n",
    "            except:\n",
    "                continue\n",
    "    return dataset\n",
    "\n",
    "val_dataset = load_dataset(os.path.join(VAL_PATH, \"driving_log.csv\"))\n",
    "\n",
    "print(\"Loaded {} samples from file {}\".format(len(val_dataset),VAL_PATH))"
   ]
  },
  {
   "cell_type": "code",
   "execution_count": 25,
   "metadata": {
    "collapsed": true
   },
   "outputs": [],
   "source": [
    "seq_images = []\n",
    "seq_len = 10\n",
    "\n",
    "def img_for_model(data):\n",
    "    img = cv2.imread(VAL_PATH + data[\"center\"].strip())\n",
    "    img = cv2.cvtColor(img, cv2.COLOR_RGB2HSV)[:, :, 1]\n",
    "    img = np.asarray(img).reshape(160, 320, 1)\n",
    "    return img\n",
    "\n",
    "def predict_speed(model, data):\n",
    "    global seq_images, seq_len\n",
    "    \n",
    "    pred_speed = 0.0\n",
    "    gt_speed = data[\"speed\"]\n",
    "    \n",
    "    image_array = img_for_model(data)\n",
    "    \n",
    "    if len(seq_images) < seq_len:\n",
    "        seq_images.append(image_array)\n",
    "\n",
    "    else:\n",
    "        seq_images.pop(0)\n",
    "        seq_images.append(image_array)\n",
    "\n",
    "        transformed_image_array = np.array(seq_images)\n",
    "        transformed_image_array = transformed_image_array[None, :, :, :, :]\n",
    "\n",
    "        pred_speed = float(model.predict(transformed_image_array, batch_size=1))*15 + 15\n",
    "    \n",
    "    return pred_speed, gt_speed"
   ]
  },
  {
   "cell_type": "code",
   "execution_count": 11,
   "metadata": {
    "collapsed": true
   },
   "outputs": [],
   "source": [
    "# compile and load weights\n",
    "model_path = \"../../data/weights/speed_cnn_rnn/model.json\"\n",
    "with open(model_path, 'r') as jfile:\n",
    "    model = model_from_json(jfile.read())\n",
    "\n",
    "model.compile(\"rmsprop\", \"mse\")\n",
    "weights_file = model_path.replace('json', 'h5')\n",
    "model.load_weights(weights_file)"
   ]
  },
  {
   "cell_type": "code",
   "execution_count": 32,
   "metadata": {},
   "outputs": [
    {
     "name": "stderr",
     "output_type": "stream",
     "text": [
      "100%|██████████| 10039/10039 [01:04<00:00, 154.71it/s]\n"
     ]
    }
   ],
   "source": [
    "\n",
    "font = cv2.FONT_HERSHEY_SIMPLEX\n",
    "fourcc = cv2.VideoWriter_fourcc(*'MJPG')\n",
    "out = cv2.VideoWriter('output_track1.avi',fourcc, 10.0, (320,160))\n",
    "\n",
    "for i in tqdm(range(len(val_dataset)), total=len(val_dataset)):\n",
    "    pred_speed, gt_speed = predict_speed(model, val_dataset[i])\n",
    "    pred_speed = round(pred_speed, 2)\n",
    "    gt_speed = round(gt_speed, 2)\n",
    "    image = cv2.imread(VAL_PATH + val_dataset[i][\"center\"].strip())\n",
    "    image = cv2.cvtColor(image, cv2.COLOR_BGR2RGB)\n",
    "    cv2.putText(image,str(pred_speed), (10,130), font, 0.5,(0,255,0),1,cv2.LINE_AA)\n",
    "    cv2.putText(image,str(gt_speed), (10,150), font, 0.5,(0,0,255),1,cv2.LINE_AA)\n",
    "    out.write(image)\n",
    "    #cv2.imshow(\"Front view\", image)\n",
    "    #if cv2.waitKey(1) & 0xFF == ord('q'):\n",
    "    #    break\n",
    "\n",
    "out.release()\n",
    "#cv2.destroyAllWindows()"
   ]
  },
  {
   "cell_type": "code",
   "execution_count": 23,
   "metadata": {
    "collapsed": true,
    "scrolled": true
   },
   "outputs": [],
   "source": []
  },
  {
   "cell_type": "code",
   "execution_count": null,
   "metadata": {
    "collapsed": true
   },
   "outputs": [],
   "source": []
  }
 ],
 "metadata": {
  "kernelspec": {
   "display_name": "Python 3",
   "language": "python",
   "name": "python3"
  },
  "language_info": {
   "codemirror_mode": {
    "name": "ipython",
    "version": 3
   },
   "file_extension": ".py",
   "mimetype": "text/x-python",
   "name": "python",
   "nbconvert_exporter": "python",
   "pygments_lexer": "ipython3",
   "version": "3.5.2"
  },
  "widgets": {
   "state": {},
   "version": "1.1.2"
  }
 },
 "nbformat": 4,
 "nbformat_minor": 2
}
