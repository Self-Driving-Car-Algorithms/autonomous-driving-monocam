{
 "cells": [
  {
   "cell_type": "code",
   "execution_count": 1,
   "metadata": {},
   "outputs": [
    {
     "name": "stderr",
     "output_type": "stream",
     "text": [
      "Using TensorFlow backend.\n"
     ]
    },
    {
     "name": "stdout",
     "output_type": "stream",
     "text": [
      "10798\n",
      "{'image': 'out00006.png', 'speed': 0.0}\n"
     ]
    }
   ],
   "source": [
    "import csv\n",
    "import os\n",
    "import numpy as np\n",
    "import cv2\n",
    "import keras\n",
    "\n",
    "from keras.models import load_model\n",
    "from keras.models import model_from_json\n",
    "import h5py\n",
    "from keras import __version__ as keras_version\n",
    "\n",
    "from time import sleep\n",
    "from tqdm import tqdm\n",
    "\n",
    "dataset_path = \"../../data/speed_challenge_2017/data/test_seq/\"\n",
    "output_path = \"../../data/speed_challenge_2017/data/train.txt\"\n",
    "\n",
    "# with open(output_path, 'r') as h:\n",
    "#     lines = h.readlines()\n",
    "\n",
    "image_paths = sorted(os.listdir(dataset_path))\n",
    "\n",
    "dataset = []\n",
    "for i in range(len(image_paths)):\n",
    "    #speed_val = float(lines[i].strip())\n",
    "    speed_val = 0.0\n",
    "    dataset.append({\"image\": image_paths[i], \"speed\": speed_val})\n",
    "\n",
    "print(len(dataset))\n",
    "print(dataset[5])"
   ]
  },
  {
   "cell_type": "code",
   "execution_count": 3,
   "metadata": {
    "collapsed": true
   },
   "outputs": [],
   "source": [
    "seq_images = []\n",
    "seq_len = 10\n",
    "\n",
    "def img_for_model(data):\n",
    "    img = cv2.imread(dataset_path + data[\"image\"], 0)[30:370, :]\n",
    "    img = cv2.equalizeHist(img)\n",
    "    img = np.asarray(img).reshape(340, 640, 1)\n",
    "    return img\n",
    "\n",
    "def predict_speed(model, data):\n",
    "    global seq_images, seq_len\n",
    "\n",
    "    pred_speed = 0.0\n",
    "    gt_speed = data[\"speed\"]\n",
    "\n",
    "    image_array = img_for_model(data)\n",
    "\n",
    "    if len(seq_images) < seq_len:\n",
    "        seq_images.append(image_array)\n",
    "\n",
    "        transformed_image_array = np.array(seq_images)\n",
    "        transformed_image_array = transformed_image_array[None, :, :, :, :]\n",
    "\n",
    "        pred_speed = float(model.predict(transformed_image_array, batch_size=1))*15 + 15\n",
    "\n",
    "\n",
    "    else:\n",
    "        seq_images.pop(0)\n",
    "        seq_images.append(image_array)\n",
    "\n",
    "        transformed_image_array = np.array(seq_images)\n",
    "        transformed_image_array = transformed_image_array[None, :, :, :, :]\n",
    "\n",
    "        pred_speed = float(model.predict(transformed_image_array, batch_size=1))*15 + 15\n",
    "\n",
    "    return pred_speed, gt_speed"
   ]
  },
  {
   "cell_type": "code",
   "execution_count": 4,
   "metadata": {
    "collapsed": true
   },
   "outputs": [],
   "source": [
    "# compile and load weights\n",
    "model_path = \"../../data/weights/speed_challenge/model.json\"\n",
    "with open(model_path, 'r') as jfile:\n",
    "    model = model_from_json(jfile.read())\n",
    "\n",
    "model.compile(\"rmsprop\", \"mse\")\n",
    "weights_file = model_path.replace('json', 'h5')\n",
    "model.load_weights(weights_file)"
   ]
  },
  {
   "cell_type": "code",
   "execution_count": null,
   "metadata": {},
   "outputs": [
    {
     "name": "stderr",
     "output_type": "stream",
     "text": [
      " 25%|██▌       | 2746/10798 [01:04<03:05, 43.35it/s]"
     ]
    }
   ],
   "source": [
    "\n",
    "font = cv2.FONT_HERSHEY_SIMPLEX\n",
    "fourcc = cv2.VideoWriter_fourcc(*'MJPG')\n",
    "out = cv2.VideoWriter('comma_test.avi',fourcc, 20.0, (640,480))\n",
    "\n",
    "for i in tqdm(range(len(dataset)), total=len(dataset)):\n",
    "    pred_speed, gt_speed = predict_speed(model, dataset[i])\n",
    "    pred_speed = round(pred_speed, 2)\n",
    "    gt_speed = round(gt_speed, 2)\n",
    "    image = cv2.imread(dataset_path + dataset[i][\"image\"])\n",
    "    cv2.putText(image,str(pred_speed), (20,420), font, 0.5,(0,255,0),1,cv2.LINE_AA)\n",
    "    cv2.putText(image,str(gt_speed), (20,450), font, 0.5,(0,0,255),1,cv2.LINE_AA)\n",
    "    out.write(image)\n",
    "#     cv2.imshow(\"Front view\", image)\n",
    "#     if cv2.waitKey(1) & 0xFF == ord('q'):\n",
    "#        break\n",
    "\n",
    "out.release()\n",
    "#cv2.destroyAllWindows()"
   ]
  },
  {
   "cell_type": "code",
   "execution_count": null,
   "metadata": {
    "collapsed": true,
    "scrolled": true
   },
   "outputs": [],
   "source": []
  },
  {
   "cell_type": "code",
   "execution_count": null,
   "metadata": {
    "collapsed": true
   },
   "outputs": [],
   "source": []
  }
 ],
 "metadata": {
  "kernelspec": {
   "display_name": "Python 3",
   "language": "python",
   "name": "python3"
  },
  "language_info": {
   "codemirror_mode": {
    "name": "ipython",
    "version": 3
   },
   "file_extension": ".py",
   "mimetype": "text/x-python",
   "name": "python",
   "nbconvert_exporter": "python",
   "pygments_lexer": "ipython3",
   "version": "3.5.2"
  },
  "widgets": {
   "state": {},
   "version": "1.1.2"
  }
 },
 "nbformat": 4,
 "nbformat_minor": 2
}
